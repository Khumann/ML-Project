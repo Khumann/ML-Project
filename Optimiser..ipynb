{
 "cells": [
  {
   "cell_type": "code",
   "execution_count": 23,
   "metadata": {
    "id": "Sm7ZOiX3wkh7"
   },
   "outputs": [],
   "source": [
    "import numpy as np\n",
    "import pandas as pd\n",
    "import random\n",
    "import matplotlib.pyplot as plt\n",
    "import seaborn as sns\n",
    "from scipy.stats import ttest_rel"
   ]
  },
  {
   "cell_type": "markdown",
   "metadata": {
    "id": "XuadeSHvWvFQ"
   },
   "source": [
    "Task 1"
   ]
  },
  {
   "cell_type": "code",
   "execution_count": 24,
   "metadata": {
    "colab": {
     "base_uri": "https://localhost:8080/"
    },
    "id": "8lB3hCnZEmCu",
    "outputId": "9fbf35f1-cae6-4893-b656-32781ed53292"
   },
   "outputs": [
    {
     "name": "stdout",
     "output_type": "stream",
     "text": [
      "Optimal Value: -1784.0773507231927\n",
      "constraint function output of g1: 101000.01528759542\n",
      "constraint function output of g2: -1000.0000598304209\n",
      "constarint function output of g3: -52.97118117373543\n",
      "constraint function output of g4: -0.9196377239881502\n",
      "constraint function output of g5: 4.88\n",
      "constraint function output of g6: -0.14477999681964235\n",
      "constraint function output of g7: -4999.999945390436\n"
     ]
    }
   ],
   "source": [
    "def f(x):\n",
    "    return (P0(x) * x[0]) / 0.7 + Ef(x)\n",
    "\n",
    "def g1(x):\n",
    "    return 101000 - W(x)\n",
    "\n",
    "\n",
    "def g2(x):\n",
    "    return P0(x) - 1000\n",
    "\n",
    "\n",
    "def g3(x):\n",
    "    return delta_T(x) - 50\n",
    "\n",
    "\n",
    "def g4(x):\n",
    "    return 0.001 - h(x)\n",
    "\n",
    "\n",
    "def g5(x):\n",
    "    return x[1] - x[2]\n",
    "\n",
    "\n",
    "def g6(x):\n",
    "    return ((0.0307 * x[0])/(772.8 * np.pi * P0(x) * h(x) * x[2])) - 0.001\n",
    "\n",
    "\n",
    "def g7(x):\n",
    "    return (W(x) / (np.pi * (x[2]**2 - x[1]**2))) - 5000\n",
    "\n",
    "\n",
    "\n",
    "def W(x):\n",
    "    return (np.pi * P0(x) / 2) * ((x[2]**2 - x[1]**2) / np.log(x[2] / x[1]))\n",
    "\n",
    "def P0(x):\n",
    "    return ((6 * 10**-6 * x[3] * x[0]) * np.log(x[2] / x[1])) /  (np.pi * h(x)**3)\n",
    "\n",
    "def Ef(x):\n",
    "    return 143.308 * delta_T(x) * x[0]\n",
    "\n",
    "def delta_T(x):\n",
    "    return 2 * (10**P(x) - 560)\n",
    "\n",
    "def P(x):\n",
    "    return (np.log10(np.log10(8.122 * x[3]  + 0.8)) - 10.04) /  -3.55\n",
    "\n",
    "def h(x):\n",
    "    return (((1500 * np.pi) / 60)**2) * (((2 * 10**-6 * np.pi * x[3]) / Ef(x)) * ((x[2]**4 - x[1]**4)/4) )\n",
    "\n",
    "\n",
    "x = np.array([4.19, 11.57, 6.69, 10.65])\n",
    "\n",
    "print(\"Optimal Value:\", f(x))\n",
    "print(\"constraint function output of g1:\", g1(x))\n",
    "print(\"constraint function output of g2:\", g2(x))\n",
    "print(\"constarint function output of g3:\", g3(x))\n",
    "print(\"constraint function output of g4:\", g4(x))\n",
    "print(\"constraint function output of g5:\", g5(x))\n",
    "print(\"constraint function output of g6:\", g6(x))\n",
    "print(\"constraint function output of g7:\", g7(x))\n"
   ]
  },
  {
   "cell_type": "markdown",
   "metadata": {
    "id": "fqyLuM1yxg--"
   },
   "source": [
    "Task 2"
   ]
  },
  {
   "cell_type": "code",
   "execution_count": 32,
   "metadata": {
    "colab": {
     "base_uri": "https://localhost:8080/"
    },
    "id": "8jj395q8xjWh",
    "outputId": "000e34fe-1022-4ff2-d4fc-044b24bfa836"
   },
   "outputs": [
    {
     "name": "stdout",
     "output_type": "stream",
     "text": [
      "Best Solution: [14.41726809  8.94053189  9.47981247  7.63681988]\n",
      "Best Objective Value: 55297.63607532341\n"
     ]
    }
   ],
   "source": [
    "def random_search_with_penalty(function, g, penalty=1e6, num_iter=10000, seed=None):\n",
    "    np.random.seed(seed)\n",
    "\n",
    "    best_sln = None\n",
    "    best_obj_val = np.inf\n",
    "\n",
    "    for _ in range(num_iter):\n",
    "        cand_sln = np.random.uniform(low=[1, 1, 1, 1], high=[16, 16, 16, 16])\n",
    "\n",
    "        pnlty_trm = sum(max(0, constraint(cand_sln)) for constraint in g)\n",
    "        obj_val = function(cand_sln) + penalty * pnlty_trm\n",
    "\n",
    "        if all(constraint(cand_sln) <= 0 for constraint in g):\n",
    "            if obj_val < best_obj_val:\n",
    "                best_sln = cand_sln\n",
    "                best_obj_val = obj_val\n",
    "\n",
    "    return best_sln, best_obj_val\n",
    "\n",
    "g = [g1, g2, g3, g4, g5, g6, g7]\n",
    "\n",
    "best_sln, best_obj_val = random_search_with_penalty(f, g, penalty=1e6, num_iter=10000, seed=45)\n",
    "\n",
    "print(\"Best Solution:\", best_sln)\n",
    "print(\"Best Objective Value:\", best_obj_val)"
   ]
  },
  {
   "cell_type": "markdown",
   "metadata": {
    "id": "vhf96qQQx68p"
   },
   "source": [
    "Task 3"
   ]
  },
  {
   "cell_type": "code",
   "execution_count": 33,
   "metadata": {
    "colab": {
     "base_uri": "https://localhost:8080/"
    },
    "id": "6uPbqfvHxxSp",
    "outputId": "d885d669-de0f-42e9-e69e-ba1dbe404c5f"
   },
   "outputs": [
    {
     "name": "stderr",
     "output_type": "stream",
     "text": [
      "<ipython-input-24-4578d4617bcb>:46: RuntimeWarning: invalid value encountered in log10\n",
      "  return (np.log10(np.log10(8.122 * x[3]  + 0.8)) - 10.04) /  -3.55\n",
      "<ipython-input-33-5124d9edc9af>:13: RuntimeWarning: overflow encountered in exp\n",
      "  acceptance_prob = np.exp((function(current_solution) - candidate_objective_value) / temperature)\n",
      "<ipython-input-24-4578d4617bcb>:37: RuntimeWarning: invalid value encountered in log\n",
      "  return ((6 * 10**-6 * x[3] * x[0]) * np.log(x[2] / x[1])) /  (np.pi * h(x)**3)\n",
      "<ipython-input-24-4578d4617bcb>:34: RuntimeWarning: invalid value encountered in log\n",
      "  return (np.pi * P0(x) / 2) * ((x[2]**2 - x[1]**2) / np.log(x[2] / x[1]))\n"
     ]
    },
    {
     "name": "stdout",
     "output_type": "stream",
     "text": [
      "Best Solution (Simulated Annealing): [ 8.75946826 15.20443906 12.48189639  5.23593766]\n",
      "Best Objective Value (Simulated Annealing): 65275.851527928346\n"
     ]
    }
   ],
   "source": [
    "\n",
    "def simulated_annealing(function, g, penalty=1e6, initial_temp=1.0, cooling_rate=0.95, num_iter=10000, seed=None):\n",
    "    np.random.seed(seed)\n",
    "\n",
    "    current_solution = np.random.uniform(low=[1, 1, 1, 1], high=[16, 16, 16, 16])\n",
    "    best_solution = current_solution\n",
    "    temperature = initial_temp\n",
    "\n",
    "    for iteration in range(num_iter):\n",
    "        candidate_solution = current_solution + np.random.normal(scale=temperature, size=len(current_solution))\n",
    "\n",
    "        penalty_term = sum(max(0, constraint(candidate_solution)) for constraint in g)\n",
    "        candidate_objective_value = max(0, function(candidate_solution)) +  1e6 * penalty_term\n",
    "        acceptance_prob = np.exp((function(current_solution) - candidate_objective_value) / temperature)\n",
    "\n",
    "        if (candidate_objective_value < function(current_solution)) or (np.random.rand() < acceptance_prob):\n",
    "            current_solution = candidate_solution\n",
    "\n",
    "        if function(current_solution) < function(best_solution):\n",
    "            best_solution = current_solution\n",
    "\n",
    "        temperature *= cooling_rate\n",
    "    return best_solution, function(best_solution)\n",
    "\n",
    "g = [g1, g2, g3, g4, g5, g6, g7]\n",
    "\n",
    "best_solution_sa, best_objective_value_sa = simulated_annealing(f, g, penalty=1e6, initial_temp=10.0, cooling_rate=0.95, num_iter=10000, seed=23)\n",
    "\n",
    "print(\"Best Solution (Simulated Annealing):\", best_solution_sa)\n",
    "print(\"Best Objective Value (Simulated Annealing):\", best_objective_value_sa)"
   ]
  },
  {
   "cell_type": "markdown",
   "metadata": {
    "id": "H4UR6UbfyHLm"
   },
   "source": [
    "Task 4"
   ]
  },
  {
   "cell_type": "code",
   "execution_count": null,
   "metadata": {
    "colab": {
     "base_uri": "https://localhost:8080/"
    },
    "id": "1WodEj24yCVf",
    "outputId": "ff8237d2-a397-4f94-f27e-b19ce3446f67"
   },
   "outputs": [
    {
     "name": "stdout",
     "output_type": "stream",
     "text": [
      "62\n",
      "57512.794568580306\n",
      "12\n",
      "41550.204012428716\n",
      "87\n",
      "49252.28750255954\n",
      "94\n",
      "45540.000667732995\n",
      "65\n",
      "52580.69357910015\n",
      "17\n",
      "39437.42186477552\n",
      "35\n",
      "39614.48806396733\n",
      "29\n",
      "44365.97915973333\n",
      "23\n",
      "61130.35223325828\n",
      "54\n",
      "56818.04084088361\n",
      "43\n",
      "51820.45475063368\n",
      "46\n",
      "47779.41155169817\n",
      "26\n",
      "45312.51947710915\n",
      "53\n",
      "40456.38926423966\n",
      "934\n",
      "52969.76960585777\n",
      "46\n",
      "47779.41155169817\n",
      "62\n",
      "57512.794568580306\n",
      "732\n",
      "32985.46677478328\n",
      "76\n",
      "53341.91486818714\n",
      "34\n",
      "42615.633988193\n",
      "78\n",
      "37065.89599670014\n",
      "62\n",
      "5659.267555993295\n",
      "12\n",
      "4272.822855489526\n",
      "87\n",
      "346421.9948562075\n"
     ]
    }
   ],
   "source": [
    "def run_optimization_algorithm(algorithm, repetitions, function, g, num_evaluations=10000, seed=None):\n",
    "    total_runtimes = []\n",
    "    best_objective_values = []\n",
    "\n",
    "    for i in range(repetitions):\n",
    "        current_seed = [62, 12, 87, 94, 65, 17, 35, 29, 23, 54, 43, 46, 26, 53, 934, 46, 62, 732, 76, 34, 78]\n",
    "        best_solution, best_objective_value = algorithm(function, g, penalty=2e6, num_iter=num_evaluations, seed=current_seed[i])\n",
    "        print(current_seed[i])\n",
    "        print(best_objective_value)\n",
    "        best_objective_values.append(best_objective_value)\n",
    "\n",
    "    return total_runtimes, best_objective_values\n",
    "\n",
    "\n",
    "rs_runtimes, rs_objective_values = run_optimization_algorithm(random_search, 21, f, g, num_evaluations=10000, seed=55)\n",
    "\n",
    "sa_runtimes, sa_objective_values = run_optimization_algorithm(simulated_annealing, 21, f, g, num_evaluations=10000, seed=55)"
   ]
  },
  {
   "cell_type": "code",
   "execution_count": 29,
   "metadata": {
    "id": "C7SiFJGjyKzz"
   },
   "outputs": [],
   "source": [
    "all_results = rs_objective_values + sa_objective_values\n",
    "all_labels = ['Random Search'] * len(rs_objective_values) + ['Simulated Annealing'] * len(sa_objective_values)"
   ]
  },
  {
   "cell_type": "code",
   "execution_count": 30,
   "metadata": {
    "id": "2rranFr_yN2X"
   },
   "outputs": [],
   "source": [
    "data = pd.DataFrame({'Optimizer': all_labels, 'Objective Value': all_results})"
   ]
  },
  {
   "cell_type": "code",
   "execution_count": 31,
   "metadata": {
    "colab": {
     "base_uri": "https://localhost:8080/",
     "height": 487
    },
    "id": "2CxRpRW7yQgh",
    "outputId": "d1f59320-683b-463e-a0e6-73e9c58c2328"
   },
   "outputs": [
    {
     "data": {
      "image/png": "[encoded data removed]",
      "text/plain": [
       "<Figure size 640x480 with 1 Axes>"
      ]
     },
     "metadata": {},
     "output_type": "display_data"
    }
   ],
   "source": [
    "plt.figure()\n",
    "sns.boxplot(x='Optimizer', y='Objective Value', data=data)\n",
    "plt.title('Box Plot of Objective Values for Random Search and Simulated Annealing')\n",
    "plt.ylabel('Objective Value')\n",
    "plt.show()"
   ]
  }
 ],
 "metadata": {
  "colab": {
   "provenance": []
  },
  "kernelspec": {
   "display_name": "Python 3 (ipykernel)",
   "language": "python",
   "name": "python3"
  },
  "language_info": {
   "codemirror_mode": {
    "name": "ipython",
    "version": 3
   },
   "file_extension": ".py",
   "mimetype": "text/x-python",
   "name": "python",
   "nbconvert_exporter": "python",
   "pygments_lexer": "ipython3",
   "version": "3.11.5"
  }
 },
 "nbformat": 4,
 "nbformat_minor": 1
}
