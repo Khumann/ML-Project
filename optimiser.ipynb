{
 "cells": [
  {
   "cell_type": "code",
   "execution_count": 1,
   "id": "f23b069e",
   "metadata": {},
   "outputs": [],
   "source": [
    "import numpy as np\n",
    "import pandas as pd\n",
    "import random\n",
    "import matplotlib.pyplot as plt\n",
    "import seaborn as sns\n",
    "from scipy.stats import ttest_rel"
   ]
  },
  {
   "cell_type": "code",
   "execution_count": 2,
   "id": "f7d7c555",
   "metadata": {},
   "outputs": [
    {
     "name": "stdout",
     "output_type": "stream",
     "text": [
      "Optimal Value: -1784.0773507231927\n",
      "constraint function output of g1: 101000.01528759542\n",
      "constraint function output of g2: -1000.0000598304209\n",
      "constarint function output of g3: -52.97118117373543\n",
      "constraint function output of g4: -0.9196377239881502\n",
      "constraint function output of g5: 4.88\n",
      "constraint function output of g6: -0.14477999681964235\n",
      "constraint function output of g7: -4999.999945390436\n"
     ]
    }
   ],
   "source": [
    "def f(x):\n",
    "    return (P0(x) * x[0]) / 0.7 + Ef(x)\n",
    "\n",
    "def g1(x):\n",
    "    return 101000 - W(x)\n",
    "\n",
    "\n",
    "def g2(x):\n",
    "    return P0(x) - 1000\n",
    "\n",
    "\n",
    "def g3(x):\n",
    "    return delta_T(x) - 50\n",
    "\n",
    "\n",
    "def g4(x):\n",
    "    return 0.001 - h(x)\n",
    "\n",
    "\n",
    "def g5(x):\n",
    "    return x[1] - x[2]\n",
    "\n",
    "\n",
    "def g6(x):\n",
    "    return ((0.0307 * x[0])/(772.8 * np.pi * P0(x) * h(x) * x[2])) - 0.001\n",
    "\n",
    "\n",
    "def g7(x):\n",
    "    return (W(x) / (np.pi * (x[2]**2 - x[1]**2))) - 5000\n",
    "\n",
    "\n",
    "\n",
    "def W(x):\n",
    "    return (np.pi * P0(x) / 2) * ((x[2]**2 - x[1]**2) / np.log(x[2] / x[1]))\n",
    "\n",
    "def P0(x):\n",
    "    return ((6 * 10**-6 * x[3] * x[0]) * np.log(x[2] / x[1])) /  (np.pi * h(x)**3)\n",
    "\n",
    "def Ef(x):\n",
    "    return 143.308 * delta_T(x) * x[0]\n",
    "\n",
    "def delta_T(x):\n",
    "    return 2 * (10**P(x) - 560)\n",
    "\n",
    "def P(x):\n",
    "    return (np.log10(np.log10(8.122 * x[3]  + 0.8)) - 10.04) /  -3.55\n",
    "\n",
    "def h(x):\n",
    "    return (((1500 * np.pi) / 60)**2) * (((2 * 10**-6 * np.pi * x[3]) / Ef(x)) * ((x[2]**4 - x[1]**4)/4) )\n",
    "\n",
    "\n",
    "x = np.array([4.19, 11.57, 6.69, 10.65])\n",
    "\n",
    "print(\"Optimal Value:\", f(x))\n",
    "print(\"constraint function output of g1:\", g1(x))\n",
    "print(\"constraint function output of g2:\", g2(x))\n",
    "print(\"constarint function output of g3:\", g3(x))\n",
    "print(\"constraint function output of g4:\", g4(x))\n",
    "print(\"constraint function output of g5:\", g5(x))\n",
    "print(\"constraint function output of g6:\", g6(x))\n",
    "print(\"constraint function output of g7:\", g7(x))"
   ]
  },
  {
   "cell_type": "code",
   "execution_count": null,
   "id": "6dba4ef1",
   "metadata": {},
   "outputs": [],
   "source": []
  }
 ],
 "metadata": {
  "kernelspec": {
   "display_name": "Python 3 (ipykernel)",
   "language": "python",
   "name": "python3"
  },
  "language_info": {
   "codemirror_mode": {
    "name": "ipython",
    "version": 3
   },
   "file_extension": ".py",
   "mimetype": "text/x-python",
   "name": "python",
   "nbconvert_exporter": "python",
   "pygments_lexer": "ipython3",
   "version": "3.11.5"
  }
 },
 "nbformat": 4,
 "nbformat_minor": 5
}
